{
 "cells": [
  {
   "cell_type": "code",
   "execution_count": 1,
   "metadata": {},
   "outputs": [],
   "source": [
    "from tensorflow.keras.preprocessing.image import ImageDataGenerator\n",
    "from tensorflow.keras.applications import MobileNetV2\n",
    "from tensorflow.keras.layers import AveragePooling2D\n",
    "from tensorflow.keras.layers import Dropout\n",
    "from tensorflow.keras.layers import Flatten\n",
    "from tensorflow.keras.layers import Dense\n",
    "from tensorflow.keras.layers import Input\n",
    "from tensorflow.keras.models import Model\n",
    "from tensorflow.keras.optimizers import Adam\n",
    "from tensorflow.keras.applications.mobilenet_v2 import preprocess_input\n",
    "from tensorflow.keras.preprocessing.image import img_to_array\n",
    "from tensorflow.keras.preprocessing.image import load_img\n",
    "from tensorflow.keras.utils import to_categorical\n",
    "from sklearn.preprocessing import LabelBinarizer\n",
    "from sklearn.model_selection import train_test_split\n",
    "from sklearn.metrics import classification_report\n",
    "from imutils import paths\n",
    "import matplotlib.pyplot as plt\n",
    "import numpy as np\n",
    "import os"
   ]
  },
  {
   "cell_type": "code",
   "execution_count": 38,
   "metadata": {},
   "outputs": [],
   "source": [
    "# set theinitial learning rate, number of epochs to train for,\n",
    "# and batch size\n",
    "INIT_LR = 1e-4\n",
    "EPOCHS = 20\n",
    "BS = 64"
   ]
  },
  {
   "cell_type": "code",
   "execution_count": 39,
   "metadata": {},
   "outputs": [],
   "source": [
    "DIRECTORY = r\"./dataset\"\n",
    "CATEGORIES = [\"with_mask\", \"without_mask\"]"
   ]
  },
  {
   "cell_type": "code",
   "execution_count": 40,
   "metadata": {},
   "outputs": [
    {
     "name": "stdout",
     "output_type": "stream",
     "text": [
      "[INFO] loading images...\n"
     ]
    }
   ],
   "source": [
    "print(\"[INFO] loading images...\")"
   ]
  },
  {
   "cell_type": "code",
   "execution_count": 41,
   "metadata": {},
   "outputs": [
    {
     "name": "stderr",
     "output_type": "stream",
     "text": [
      "C:\\Users\\Geet\\Anaconda3\\lib\\site-packages\\PIL\\Image.py:918: UserWarning: Palette images with Transparency   expressed in bytes should be converted to RGBA images\n",
      "  'to RGBA images')\n"
     ]
    }
   ],
   "source": [
    "data = []\n",
    "labels = []\n",
    "\n",
    "for category in CATEGORIES:\n",
    "    path = os.path.join(DIRECTORY, category)\n",
    "    for img in os.listdir(path):\n",
    "        img_path = os.path.join(path, img)\n",
    "        image = load_img(img_path, target_size=(128, 128))\n",
    "        image = img_to_array(image)\n",
    "        image = preprocess_input(image)\n",
    "\n",
    "        data.append(image)\n",
    "        labels.append(category)"
   ]
  },
  {
   "cell_type": "code",
   "execution_count": 42,
   "metadata": {},
   "outputs": [],
   "source": [
    "# one-hot encoding\n",
    "lb = LabelBinarizer()\n",
    "labels = lb.fit_transform(labels)\n",
    "labels = to_categorical(labels)\n",
    "\n",
    "data = np.array(data, dtype=\"float32\")\n",
    "labels = np.array(labels)\n",
    "\n",
    "(trainX, testX, trainY, testY) = train_test_split(data, labels,\n",
    "    test_size=0.20, stratify=labels, random_state=42)"
   ]
  },
  {
   "cell_type": "code",
   "execution_count": 43,
   "metadata": {},
   "outputs": [],
   "source": [
    "# data augmentation\n",
    "aug = ImageDataGenerator(\n",
    "    rotation_range=30,\n",
    "    zoom_range=0.20,\n",
    "    width_shift_range=0.3,\n",
    "    height_shift_range=0.3,\n",
    "    shear_range=0.20,\n",
    "    horizontal_flip=True,\n",
    "    fill_mode=\"nearest\")"
   ]
  },
  {
   "cell_type": "code",
   "execution_count": 44,
   "metadata": {},
   "outputs": [
    {
     "name": "stdout",
     "output_type": "stream",
     "text": [
      "WARNING:tensorflow:`input_shape` is undefined or non-square, or `rows` is not in [96, 128, 160, 192, 224]. Weights for input shape (224, 224) will be loaded as the default.\n"
     ]
    }
   ],
   "source": [
    "# load the MobileNetV2 network, ensuring the head FC layer sets are left off\n",
    "baseModel = MobileNetV2(weights=\"imagenet\", include_top=False,\n",
    "    input_tensor=Input(shape=(128, 128, 3)))"
   ]
  },
  {
   "cell_type": "code",
   "execution_count": 45,
   "metadata": {},
   "outputs": [],
   "source": [
    "# construct the head of the model that will be placed on top of the base\n",
    "headModel = baseModel.output\n",
    "headModel = AveragePooling2D(pool_size=(4, 4))(headModel)\n",
    "headModel = Flatten(name=\"flatten\")(headModel)\n",
    "headModel = Dense(64, activation=\"relu\")(headModel)\n",
    "headModel = Dropout(0.5)(headModel)\n",
    "headModel = Dense(2, activation=\"softmax\")(headModel)"
   ]
  },
  {
   "cell_type": "code",
   "execution_count": 46,
   "metadata": {},
   "outputs": [],
   "source": [
    "#the head FC model on top of the base model\n",
    "model = Model(inputs=baseModel.input, outputs=headModel)\n",
    "\n",
    "# loop over layers in the base model and freeze them\n",
    "for layer in baseModel.layers:\n",
    "    layer.trainable = False"
   ]
  },
  {
   "cell_type": "code",
   "execution_count": 47,
   "metadata": {},
   "outputs": [
    {
     "name": "stdout",
     "output_type": "stream",
     "text": [
      "[INFO] compiling model...\n"
     ]
    }
   ],
   "source": [
    "print(\"[INFO] compiling model...\")\n",
    "opt = Adam(lr=INIT_LR, decay=INIT_LR / EPOCHS)\n",
    "model.compile(loss=\"binary_crossentropy\", optimizer=opt,\n",
    "    metrics=[\"accuracy\"])"
   ]
  },
  {
   "cell_type": "code",
   "execution_count": 48,
   "metadata": {},
   "outputs": [
    {
     "name": "stdout",
     "output_type": "stream",
     "text": [
      "[INFO] training head...\n",
      "Epoch 1/20\n",
      "47/47 [==============================] - 23s 486ms/step - loss: 0.8983 - accuracy: 0.6779 - val_loss: 0.1689 - val_accuracy: 0.9387\n",
      "Epoch 2/20\n",
      "47/47 [==============================] - 23s 494ms/step - loss: 0.3348 - accuracy: 0.8658 - val_loss: 0.1064 - val_accuracy: 0.9648\n",
      "Epoch 3/20\n",
      "47/47 [==============================] - 24s 511ms/step - loss: 0.2505 - accuracy: 0.9017 - val_loss: 0.0858 - val_accuracy: 0.9700\n",
      "Epoch 4/20\n",
      "47/47 [==============================] - 25s 526ms/step - loss: 0.1852 - accuracy: 0.9287 - val_loss: 0.0732 - val_accuracy: 0.9765\n",
      "Epoch 5/20\n",
      "47/47 [==============================] - 25s 525ms/step - loss: 0.1870 - accuracy: 0.9237 - val_loss: 0.0658 - val_accuracy: 0.9791\n",
      "Epoch 6/20\n",
      "47/47 [==============================] - 25s 526ms/step - loss: 0.1415 - accuracy: 0.9450 - val_loss: 0.0598 - val_accuracy: 0.9831\n",
      "Epoch 7/20\n",
      "47/47 [==============================] - 25s 531ms/step - loss: 0.1332 - accuracy: 0.9494 - val_loss: 0.0559 - val_accuracy: 0.9804\n",
      "Epoch 8/20\n",
      "47/47 [==============================] - 28s 591ms/step - loss: 0.1238 - accuracy: 0.9504 - val_loss: 0.0551 - val_accuracy: 0.9791\n",
      "Epoch 9/20\n",
      "47/47 [==============================] - 25s 538ms/step - loss: 0.1289 - accuracy: 0.9554 - val_loss: 0.0505 - val_accuracy: 0.9817\n",
      "Epoch 10/20\n",
      "47/47 [==============================] - 24s 516ms/step - loss: 0.1170 - accuracy: 0.9521 - val_loss: 0.0500 - val_accuracy: 0.9778\n",
      "Epoch 11/20\n",
      "47/47 [==============================] - 24s 516ms/step - loss: 0.0971 - accuracy: 0.9670 - val_loss: 0.0508 - val_accuracy: 0.9778\n",
      "Epoch 12/20\n",
      "47/47 [==============================] - 24s 520ms/step - loss: 0.1165 - accuracy: 0.9557 - val_loss: 0.0486 - val_accuracy: 0.9791\n",
      "Epoch 13/20\n",
      "47/47 [==============================] - 24s 520ms/step - loss: 0.0862 - accuracy: 0.9687 - val_loss: 0.0484 - val_accuracy: 0.9765\n",
      "Epoch 14/20\n",
      "47/47 [==============================] - 24s 518ms/step - loss: 0.0840 - accuracy: 0.9684 - val_loss: 0.0469 - val_accuracy: 0.9791\n",
      "Epoch 15/20\n",
      "47/47 [==============================] - 25s 526ms/step - loss: 0.0906 - accuracy: 0.9667 - val_loss: 0.0443 - val_accuracy: 0.9844\n",
      "Epoch 16/20\n",
      "47/47 [==============================] - 25s 524ms/step - loss: 0.0948 - accuracy: 0.9700 - val_loss: 0.0426 - val_accuracy: 0.9857\n",
      "Epoch 17/20\n",
      "47/47 [==============================] - 25s 525ms/step - loss: 0.0895 - accuracy: 0.9677 - val_loss: 0.0435 - val_accuracy: 0.9844\n",
      "Epoch 18/20\n",
      "47/47 [==============================] - 24s 516ms/step - loss: 0.0799 - accuracy: 0.9720 - val_loss: 0.0424 - val_accuracy: 0.9857\n",
      "Epoch 19/20\n",
      "47/47 [==============================] - 25s 524ms/step - loss: 0.0828 - accuracy: 0.9714 - val_loss: 0.0425 - val_accuracy: 0.9831\n",
      "Epoch 20/20\n",
      "47/47 [==============================] - 25s 532ms/step - loss: 0.0862 - accuracy: 0.9700 - val_loss: 0.0442 - val_accuracy: 0.9765\n",
      "[INFO] evaluating network...\n"
     ]
    }
   ],
   "source": [
    "# train the head of the network\n",
    "print(\"[INFO] training head...\")\n",
    "H = model.fit(\n",
    "    aug.flow(trainX, trainY, batch_size=BS),\n",
    "    steps_per_epoch=len(trainX) // BS,\n",
    "    validation_data=(testX, testY),\n",
    "    validation_steps=len(testX) // BS,\n",
    "    epochs=EPOCHS)\n",
    "\n",
    "# make predictions on the testing set\n",
    "print(\"[INFO] evaluating network...\")\n",
    "predIdxs = model.predict(testX, batch_size=BS)"
   ]
  },
  {
   "cell_type": "code",
   "execution_count": 49,
   "metadata": {},
   "outputs": [
    {
     "name": "stdout",
     "output_type": "stream",
     "text": [
      "              precision    recall  f1-score   support\n",
      "\n",
      "   with_mask       0.99      0.96      0.98       383\n",
      "without_mask       0.96      0.99      0.98       384\n",
      "\n",
      " avg / total       0.98      0.98      0.98       767\n",
      "\n"
     ]
    }
   ],
   "source": [
    "predIdxs = np.argmax(predIdxs, axis=1)\n",
    "\n",
    "#classification report\n",
    "print(classification_report(testY.argmax(axis=1), predIdxs,\n",
    "    target_names=lb.classes_))"
   ]
  },
  {
   "cell_type": "code",
   "execution_count": 50,
   "metadata": {},
   "outputs": [
    {
     "name": "stdout",
     "output_type": "stream",
     "text": [
      "[INFO] saving mask detector model...\n"
     ]
    }
   ],
   "source": [
    "print(\"[INFO] saving mask detector model...\")\n",
    "model.save(\"mask_detector_2.model\", save_format=\"h5\")"
   ]
  },
  {
   "cell_type": "code",
   "execution_count": 51,
   "metadata": {},
   "outputs": [
    {
     "data": {
      "image/png": "[encoded data removed]",
      "text/plain": [
       "<Figure size 432x288 with 1 Axes>"
      ]
     },
     "metadata": {},
     "output_type": "display_data"
    }
   ],
   "source": [
    "# training loss and accuracy\n",
    "N = EPOCHS\n",
    "plt.style.use(\"ggplot\")\n",
    "plt.figure()\n",
    "plt.plot(np.arange(0, N), H.history[\"loss\"], label=\"train_loss\")\n",
    "plt.plot(np.arange(0, N), H.history[\"val_loss\"], label=\"val_loss\")\n",
    "plt.plot(np.arange(0, N), H.history[\"accuracy\"], label=\"train_acc\")\n",
    "plt.plot(np.arange(0, N), H.history[\"val_accuracy\"], label=\"val_acc\")\n",
    "plt.title(\"Training Loss and Accuracy\")\n",
    "plt.xlabel(\"Epoch #\")\n",
    "plt.ylabel(\"Loss/Accuracy\")\n",
    "plt.legend(loc=\"lower left\")\n",
    "plt.savefig(\"plot.png\")"
   ]
  },
  {
   "cell_type": "code",
   "execution_count": null,
   "metadata": {},
   "outputs": [],
   "source": []
  }
 ],
 "metadata": {
  "kernelspec": {
   "display_name": "Python 3",
   "language": "python",
   "name": "python3"
  },
  "language_info": {
   "codemirror_mode": {
    "name": "ipython",
    "version": 3
   },
   "file_extension": ".py",
   "mimetype": "text/x-python",
   "name": "python",
   "nbconvert_exporter": "python",
   "pygments_lexer": "ipython3",
   "version": "3.7.9"
  }
 },
 "nbformat": 4,
 "nbformat_minor": 2
}
